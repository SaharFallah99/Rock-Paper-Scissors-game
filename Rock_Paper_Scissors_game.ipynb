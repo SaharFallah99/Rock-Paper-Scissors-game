{
  "nbformat": 4,
  "nbformat_minor": 0,
  "metadata": {
    "colab": {
      "provenance": [],
      "authorship_tag": "ABX9TyPe+l+R3DqYrxHug79PxX0E",
      "include_colab_link": true
    },
    "kernelspec": {
      "name": "python3",
      "display_name": "Python 3"
    },
    "language_info": {
      "name": "python"
    }
  },
  "cells": [
    {
      "cell_type": "markdown",
      "metadata": {
        "id": "view-in-github",
        "colab_type": "text"
      },
      "source": [
        "<a href=\"https://colab.research.google.com/github/SaharFallah99/Rock-Paper-Scissors-game/blob/main/Rock_Paper_Scissors_game.ipynb\" target=\"_parent\"><img src=\"https://colab.research.google.com/assets/colab-badge.svg\" alt=\"Open In Colab\"/></a>"
      ]
    },
    {
      "cell_type": "code",
      "source": [
        "from random import randint"
      ],
      "metadata": {
        "id": "a63kaI4-bPB7"
      },
      "execution_count": 15,
      "outputs": []
    },
    {
      "cell_type": "code",
      "source": [
        "i=0\n",
        "score=0\n",
        "while i<3:\n",
        "  item=['rock','paper','scissors']\n",
        "  computer=item[randint(0,2)]\n",
        "  user=input('rock, paper, scissors?').lower()\n",
        "  i+=1\n",
        "  if user==computer:\n",
        "    print(f'Tie...')\n",
        "  elif user=='rock':\n",
        "    if computer=='paper':\n",
        "      print(f'wrong! {computer} \"covers\" {user}. your score is {score}.')\n",
        "    else:\n",
        "      score+=1\n",
        "      print(f'You win. {user} \"smashes\" {computer}. your score is {score}.')\n",
        "  elif user=='paper':\n",
        "    if computer=='scissors':\n",
        "      print(f'wrong! {computer} \"cuts\" {user}. your score is {score}.')\n",
        "    else:\n",
        "      score+=1\n",
        "      print(f'You win. {user} \"covers\" {computer}. your score is {score}.')\n",
        "  elif user=='scissors':\n",
        "    if computer=='rock':\n",
        "      print(f'wrong! {computer} \"smashes\" {user}. your score is {score}.')\n",
        "    else:\n",
        "      score+=1\n",
        "      print(f'You win. {user} \"cuts\" {computer}. your score is {score}.')\n",
        "  else:\n",
        "      print('Check your spelling!')\n",
        "print(f'your score is {score}')\n"
      ],
      "metadata": {
        "colab": {
          "base_uri": "https://localhost:8080/"
        },
        "id": "uUKSLkNabf6l",
        "outputId": "593efafd-27b0-4dbc-8c61-506a2e2391d2"
      },
      "execution_count": 33,
      "outputs": [
        {
          "output_type": "stream",
          "name": "stdout",
          "text": [
            "rock, paper, scissors?rock\n",
            "Tie...\n",
            "rock, paper, scissors?Paper\n",
            "You win. paper \"covers\" rock. your score is 1.\n",
            "rock, paper, scissors?scissors\n",
            "Tie...\n",
            "your score is 1\n"
          ]
        }
      ]
    }
  ]
}